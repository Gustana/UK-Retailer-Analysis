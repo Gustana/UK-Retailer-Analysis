{
 "cells": [
  {
   "cell_type": "markdown",
   "id": "f37127ab-2e4b-4eec-b0dc-6ada03c6abfe",
   "metadata": {},
   "source": [
    "The dataset contains transaction data of an online retailer store in Dec, 2010 to Dec, 2011.   \n",
    "Many customers of the company are wholesalers\n",
    "\n",
    "Objective: Provide insights to Business Team regarding the sales in the metioned period\n",
    "\n",
    "[Dataset link](https://www.kaggle.com/datasets/carrie1/ecommerce-data)"
   ]
  },
  {
   "cell_type": "code",
   "execution_count": 1,
   "id": "1ec43d86-6cd7-4fff-a965-f53e4659867a",
   "metadata": {},
   "outputs": [],
   "source": [
    "from pprint import pprint\n",
    "\n",
    "from matplotlib import pyplot as plt\n",
    "from matplotlib.ticker import FuncFormatter\n",
    "import numpy as np\n",
    "import pandas as pd\n",
    "pd.set_option('display.max_rows', 100)\n",
    "import pyarrow as pa\n",
    "import seaborn as sns\n",
    "\n",
    "from IPython.display import display, Markdown"
   ]
  },
  {
   "cell_type": "code",
   "execution_count": null,
   "id": "9721e8b0-4ede-405f-8593-5d3e493063bb",
   "metadata": {},
   "outputs": [
    {
     "data": {
      "text/html": [
       "<div>\n",
       "<style scoped>\n",
       "    .dataframe tbody tr th:only-of-type {\n",
       "        vertical-align: middle;\n",
       "    }\n",
       "\n",
       "    .dataframe tbody tr th {\n",
       "        vertical-align: top;\n",
       "    }\n",
       "\n",
       "    .dataframe thead th {\n",
       "        text-align: right;\n",
       "    }\n",
       "</style>\n",
       "<table border=\"1\" class=\"dataframe\">\n",
       "  <thead>\n",
       "    <tr style=\"text-align: right;\">\n",
       "      <th></th>\n",
       "      <th>InvoiceNo</th>\n",
       "      <th>StockCode</th>\n",
       "      <th>Description</th>\n",
       "      <th>Quantity</th>\n",
       "      <th>InvoiceDate</th>\n",
       "      <th>UnitPrice</th>\n",
       "      <th>CustomerID</th>\n",
       "      <th>Country</th>\n",
       "    </tr>\n",
       "  </thead>\n",
       "  <tbody>\n",
       "    <tr>\n",
       "      <th>0</th>\n",
       "      <td>536365</td>\n",
       "      <td>85123A</td>\n",
       "      <td>WHITE HANGING HEART T-LIGHT HOLDER</td>\n",
       "      <td>6</td>\n",
       "      <td>2010-12-01 08:26:00</td>\n",
       "      <td>2.55</td>\n",
       "      <td>17850</td>\n",
       "      <td>United Kingdom</td>\n",
       "    </tr>\n",
       "    <tr>\n",
       "      <th>1</th>\n",
       "      <td>536365</td>\n",
       "      <td>71053</td>\n",
       "      <td>WHITE METAL LANTERN</td>\n",
       "      <td>6</td>\n",
       "      <td>2010-12-01 08:26:00</td>\n",
       "      <td>3.39</td>\n",
       "      <td>17850</td>\n",
       "      <td>United Kingdom</td>\n",
       "    </tr>\n",
       "    <tr>\n",
       "      <th>2</th>\n",
       "      <td>536365</td>\n",
       "      <td>84406B</td>\n",
       "      <td>CREAM CUPID HEARTS COAT HANGER</td>\n",
       "      <td>8</td>\n",
       "      <td>2010-12-01 08:26:00</td>\n",
       "      <td>2.75</td>\n",
       "      <td>17850</td>\n",
       "      <td>United Kingdom</td>\n",
       "    </tr>\n",
       "    <tr>\n",
       "      <th>3</th>\n",
       "      <td>536365</td>\n",
       "      <td>84029G</td>\n",
       "      <td>KNITTED UNION FLAG HOT WATER BOTTLE</td>\n",
       "      <td>6</td>\n",
       "      <td>2010-12-01 08:26:00</td>\n",
       "      <td>3.39</td>\n",
       "      <td>17850</td>\n",
       "      <td>United Kingdom</td>\n",
       "    </tr>\n",
       "    <tr>\n",
       "      <th>4</th>\n",
       "      <td>536365</td>\n",
       "      <td>84029E</td>\n",
       "      <td>RED WOOLLY HOTTIE WHITE HEART.</td>\n",
       "      <td>6</td>\n",
       "      <td>2010-12-01 08:26:00</td>\n",
       "      <td>3.39</td>\n",
       "      <td>17850</td>\n",
       "      <td>United Kingdom</td>\n",
       "    </tr>\n",
       "  </tbody>\n",
       "</table>\n",
       "</div>"
      ],
      "text/plain": [
       "  InvoiceNo StockCode                          Description  Quantity  \\\n",
       "0    536365    85123A   WHITE HANGING HEART T-LIGHT HOLDER         6   \n",
       "1    536365     71053                  WHITE METAL LANTERN         6   \n",
       "2    536365    84406B       CREAM CUPID HEARTS COAT HANGER         8   \n",
       "3    536365    84029G  KNITTED UNION FLAG HOT WATER BOTTLE         6   \n",
       "4    536365    84029E       RED WOOLLY HOTTIE WHITE HEART.         6   \n",
       "\n",
       "          InvoiceDate  UnitPrice CustomerID         Country  \n",
       "0 2010-12-01 08:26:00       2.55      17850  United Kingdom  \n",
       "1 2010-12-01 08:26:00       3.39      17850  United Kingdom  \n",
       "2 2010-12-01 08:26:00       2.75      17850  United Kingdom  \n",
       "3 2010-12-01 08:26:00       3.39      17850  United Kingdom  \n",
       "4 2010-12-01 08:26:00       3.39      17850  United Kingdom  "
      ]
     },
     "execution_count": 2,
     "metadata": {},
     "output_type": "execute_result"
    }
   ],
   "source": [
    "df = pd.read_csv(\n",
    "\t\"dataset/uk_retailer.csv\", \n",
    "\tencoding=\"unicode_escape\", \n",
    "\tdate_format=\"%m/%d/%Y %H:%M\", \n",
    "\tparse_dates=[\"InvoiceDate\"], \n",
    "\tdtype={\n",
    "\t\t\"InvoiceNo\": pd.StringDtype(),\n",
    "\t\t\"StockCode\": pd.StringDtype(),\n",
    "\t\t\"Description\": pd.StringDtype(),\n",
    "\t\t\"Quantity\": pd.Int16Dtype(),\n",
    "\t\t\"UnitPrice\": pd.Float64Dtype(),\n",
    "\t\t\"CustomerID\": pd.StringDtype(),\n",
    "\t\t\"Country\": pd.StringDtype()\n",
    "\t}\n",
    ")\n",
    "\n",
    "df.head()"
   ]
  },
  {
   "cell_type": "code",
   "execution_count": 3,
   "id": "b94d1351",
   "metadata": {},
   "outputs": [
    {
     "data": {
      "text/plain": [
       "InvoiceNo           string[python]\n",
       "StockCode           string[python]\n",
       "Description         string[python]\n",
       "Quantity                     Int16\n",
       "InvoiceTimestamp    datetime64[ns]\n",
       "UnitPrice                  Float64\n",
       "CustomerID          string[python]\n",
       "Country             string[python]\n",
       "InvoiceDate         datetime64[ns]\n",
       "dtype: object"
      ]
     },
     "execution_count": 3,
     "metadata": {},
     "output_type": "execute_result"
    }
   ],
   "source": [
    "df = df.rename(columns={\"InvoiceDate\": \"InvoiceTimestamp\"})\n",
    "\n",
    "df[\"InvoiceDate\"] = df[\"InvoiceTimestamp\"].dt.date\n",
    "df[\"InvoiceDate\"] = pd.to_datetime(df[\"InvoiceDate\"], format=\"%Y-%m-%d\")\n",
    "\n",
    "df.dtypes"
   ]
  },
  {
   "cell_type": "code",
   "execution_count": 4,
   "id": "2325a4bb",
   "metadata": {},
   "outputs": [],
   "source": [
    "# preserve original df\n",
    "df_ = df.copy()"
   ]
  },
  {
   "cell_type": "markdown",
   "id": "1adacd4f",
   "metadata": {},
   "source": [
    "# Data Cleaning"
   ]
  },
  {
   "cell_type": "code",
   "execution_count": 5,
   "id": "bc6fd7da-5cca-4e42-8178-54b0c951022c",
   "metadata": {},
   "outputs": [
    {
     "data": {
      "text/html": [
       "<div>\n",
       "<style scoped>\n",
       "    .dataframe tbody tr th:only-of-type {\n",
       "        vertical-align: middle;\n",
       "    }\n",
       "\n",
       "    .dataframe tbody tr th {\n",
       "        vertical-align: top;\n",
       "    }\n",
       "\n",
       "    .dataframe thead th {\n",
       "        text-align: right;\n",
       "    }\n",
       "</style>\n",
       "<table border=\"1\" class=\"dataframe\">\n",
       "  <thead>\n",
       "    <tr style=\"text-align: right;\">\n",
       "      <th></th>\n",
       "      <th>Quantity</th>\n",
       "      <th>InvoiceTimestamp</th>\n",
       "      <th>UnitPrice</th>\n",
       "      <th>InvoiceDate</th>\n",
       "    </tr>\n",
       "  </thead>\n",
       "  <tbody>\n",
       "    <tr>\n",
       "      <th>count</th>\n",
       "      <td>541909.0</td>\n",
       "      <td>541909</td>\n",
       "      <td>541909.0</td>\n",
       "      <td>541909</td>\n",
       "    </tr>\n",
       "    <tr>\n",
       "      <th>mean</th>\n",
       "      <td>9.55225</td>\n",
       "      <td>2011-07-04 13:34:57.156386048</td>\n",
       "      <td>4.611114</td>\n",
       "      <td>2011-07-04 00:00:13.073782272</td>\n",
       "    </tr>\n",
       "    <tr>\n",
       "      <th>min</th>\n",
       "      <td>-15459.0</td>\n",
       "      <td>2010-12-01 08:26:00</td>\n",
       "      <td>-11062.06</td>\n",
       "      <td>2010-12-01 00:00:00</td>\n",
       "    </tr>\n",
       "    <tr>\n",
       "      <th>25%</th>\n",
       "      <td>1.0</td>\n",
       "      <td>2011-03-28 11:34:00</td>\n",
       "      <td>1.25</td>\n",
       "      <td>2011-03-28 00:00:00</td>\n",
       "    </tr>\n",
       "    <tr>\n",
       "      <th>50%</th>\n",
       "      <td>3.0</td>\n",
       "      <td>2011-07-19 17:17:00</td>\n",
       "      <td>2.08</td>\n",
       "      <td>2011-07-19 00:00:00</td>\n",
       "    </tr>\n",
       "    <tr>\n",
       "      <th>75%</th>\n",
       "      <td>10.0</td>\n",
       "      <td>2011-10-19 11:27:00</td>\n",
       "      <td>4.13</td>\n",
       "      <td>2011-10-19 00:00:00</td>\n",
       "    </tr>\n",
       "    <tr>\n",
       "      <th>max</th>\n",
       "      <td>15459.0</td>\n",
       "      <td>2011-12-09 12:50:00</td>\n",
       "      <td>38970.0</td>\n",
       "      <td>2011-12-09 00:00:00</td>\n",
       "    </tr>\n",
       "    <tr>\n",
       "      <th>std</th>\n",
       "      <td>64.654892</td>\n",
       "      <td>NaN</td>\n",
       "      <td>96.759853</td>\n",
       "      <td>NaN</td>\n",
       "    </tr>\n",
       "  </tbody>\n",
       "</table>\n",
       "</div>"
      ],
      "text/plain": [
       "        Quantity               InvoiceTimestamp  UnitPrice  \\\n",
       "count   541909.0                         541909   541909.0   \n",
       "mean     9.55225  2011-07-04 13:34:57.156386048   4.611114   \n",
       "min     -15459.0            2010-12-01 08:26:00  -11062.06   \n",
       "25%          1.0            2011-03-28 11:34:00       1.25   \n",
       "50%          3.0            2011-07-19 17:17:00       2.08   \n",
       "75%         10.0            2011-10-19 11:27:00       4.13   \n",
       "max      15459.0            2011-12-09 12:50:00    38970.0   \n",
       "std    64.654892                            NaN  96.759853   \n",
       "\n",
       "                         InvoiceDate  \n",
       "count                         541909  \n",
       "mean   2011-07-04 00:00:13.073782272  \n",
       "min              2010-12-01 00:00:00  \n",
       "25%              2011-03-28 00:00:00  \n",
       "50%              2011-07-19 00:00:00  \n",
       "75%              2011-10-19 00:00:00  \n",
       "max              2011-12-09 00:00:00  \n",
       "std                              NaN  "
      ]
     },
     "metadata": {},
     "output_type": "display_data"
    },
    {
     "data": {
      "text/html": [
       "<div>\n",
       "<style scoped>\n",
       "    .dataframe tbody tr th:only-of-type {\n",
       "        vertical-align: middle;\n",
       "    }\n",
       "\n",
       "    .dataframe tbody tr th {\n",
       "        vertical-align: top;\n",
       "    }\n",
       "\n",
       "    .dataframe thead th {\n",
       "        text-align: right;\n",
       "    }\n",
       "</style>\n",
       "<table border=\"1\" class=\"dataframe\">\n",
       "  <thead>\n",
       "    <tr style=\"text-align: right;\">\n",
       "      <th></th>\n",
       "      <th>InvoiceNo</th>\n",
       "      <th>StockCode</th>\n",
       "      <th>Description</th>\n",
       "      <th>CustomerID</th>\n",
       "      <th>Country</th>\n",
       "    </tr>\n",
       "  </thead>\n",
       "  <tbody>\n",
       "    <tr>\n",
       "      <th>count</th>\n",
       "      <td>541909</td>\n",
       "      <td>541909</td>\n",
       "      <td>540455</td>\n",
       "      <td>406829</td>\n",
       "      <td>541909</td>\n",
       "    </tr>\n",
       "    <tr>\n",
       "      <th>unique</th>\n",
       "      <td>25900</td>\n",
       "      <td>4070</td>\n",
       "      <td>4223</td>\n",
       "      <td>4372</td>\n",
       "      <td>38</td>\n",
       "    </tr>\n",
       "    <tr>\n",
       "      <th>top</th>\n",
       "      <td>573585</td>\n",
       "      <td>85123A</td>\n",
       "      <td>WHITE HANGING HEART T-LIGHT HOLDER</td>\n",
       "      <td>17841</td>\n",
       "      <td>United Kingdom</td>\n",
       "    </tr>\n",
       "    <tr>\n",
       "      <th>freq</th>\n",
       "      <td>1114</td>\n",
       "      <td>2313</td>\n",
       "      <td>2369</td>\n",
       "      <td>7983</td>\n",
       "      <td>495478</td>\n",
       "    </tr>\n",
       "  </tbody>\n",
       "</table>\n",
       "</div>"
      ],
      "text/plain": [
       "       InvoiceNo StockCode                         Description CustomerID  \\\n",
       "count     541909    541909                              540455     406829   \n",
       "unique     25900      4070                                4223       4372   \n",
       "top       573585    85123A  WHITE HANGING HEART T-LIGHT HOLDER      17841   \n",
       "freq        1114      2313                                2369       7983   \n",
       "\n",
       "               Country  \n",
       "count           541909  \n",
       "unique              38  \n",
       "top     United Kingdom  \n",
       "freq            495478  "
      ]
     },
     "metadata": {},
     "output_type": "display_data"
    }
   ],
   "source": [
    "display(\n",
    "\tdf.describe(exclude=[pd.StringDtype()]),\n",
    "\tdf.describe(include=[pd.StringDtype()])\n",
    ")"
   ]
  },
  {
   "cell_type": "markdown",
   "id": "8a6597c4",
   "metadata": {},
   "source": [
    "Problem:\n",
    "- Negative quantity and unit price"
   ]
  },
  {
   "cell_type": "code",
   "execution_count": 6,
   "id": "bc46b138",
   "metadata": {},
   "outputs": [
    {
     "name": "stdout",
     "output_type": "stream",
     "text": [
      "proportion of data come from UK: 0.91\n"
     ]
    }
   ],
   "source": [
    "print(\"proportion of data come from UK: {}\".format(round(df.query(\"Country.str.lower() == 'united kingdom'\").shape[0]/len(df), 2)))"
   ]
  },
  {
   "cell_type": "markdown",
   "id": "ca6a634f",
   "metadata": {},
   "source": [
    "Notes:\n",
    "- more than 90% of transaction are coming from UK"
   ]
  },
  {
   "cell_type": "code",
   "execution_count": 7,
   "id": "5fec264d-860e-428f-a78c-fc90441e4396",
   "metadata": {
    "scrolled": true
   },
   "outputs": [
    {
     "data": {
      "text/plain": [
       "'Missing values'"
      ]
     },
     "metadata": {},
     "output_type": "display_data"
    },
    {
     "data": {
      "text/plain": [
       "InvoiceNo                0\n",
       "StockCode                0\n",
       "Description           1454\n",
       "Quantity                 0\n",
       "InvoiceTimestamp         0\n",
       "UnitPrice                0\n",
       "CustomerID          135080\n",
       "Country                  0\n",
       "InvoiceDate              0\n",
       "dtype: int64"
      ]
     },
     "metadata": {},
     "output_type": "display_data"
    },
    {
     "data": {
      "text/plain": [
       "InvoiceNo            0.00\n",
       "StockCode            0.00\n",
       "Description          0.27\n",
       "Quantity             0.00\n",
       "InvoiceTimestamp     0.00\n",
       "UnitPrice            0.00\n",
       "CustomerID          24.93\n",
       "Country              0.00\n",
       "InvoiceDate          0.00\n",
       "dtype: float64"
      ]
     },
     "metadata": {},
     "output_type": "display_data"
    }
   ],
   "source": [
    "display(\n",
    "\t\"Missing values\",\n",
    "\tdf.isnull().sum(),\n",
    "\tround(df.isnull().sum()/df.shape[0]*100, 2)\n",
    ")"
   ]
  },
  {
   "cell_type": "markdown",
   "id": "b83a40ce",
   "metadata": {},
   "source": [
    "Problem:\n",
    "- 0.27% of rows don't have any description\n",
    "- nearly 25% of transactions were made by unknown customer id"
   ]
  },
  {
   "cell_type": "code",
   "execution_count": 8,
   "id": "831fdafa-03eb-4cf4-b73e-bb8422cb0361",
   "metadata": {},
   "outputs": [
    {
     "data": {
      "text/plain": [
       "'unit price = 0'"
      ]
     },
     "metadata": {},
     "output_type": "display_data"
    },
    {
     "data": {
      "text/html": [
       "<div>\n",
       "<style scoped>\n",
       "    .dataframe tbody tr th:only-of-type {\n",
       "        vertical-align: middle;\n",
       "    }\n",
       "\n",
       "    .dataframe tbody tr th {\n",
       "        vertical-align: top;\n",
       "    }\n",
       "\n",
       "    .dataframe thead th {\n",
       "        text-align: right;\n",
       "    }\n",
       "</style>\n",
       "<table border=\"1\" class=\"dataframe\">\n",
       "  <thead>\n",
       "    <tr style=\"text-align: right;\">\n",
       "      <th></th>\n",
       "      <th>InvoiceNo</th>\n",
       "      <th>StockCode</th>\n",
       "      <th>Description</th>\n",
       "      <th>Quantity</th>\n",
       "      <th>InvoiceTimestamp</th>\n",
       "      <th>UnitPrice</th>\n",
       "      <th>CustomerID</th>\n",
       "      <th>Country</th>\n",
       "      <th>InvoiceDate</th>\n",
       "    </tr>\n",
       "  </thead>\n",
       "  <tbody>\n",
       "    <tr>\n",
       "      <th>622</th>\n",
       "      <td>536414</td>\n",
       "      <td>22139</td>\n",
       "      <td>&lt;NA&gt;</td>\n",
       "      <td>56</td>\n",
       "      <td>2010-12-01 11:52:00</td>\n",
       "      <td>0.0</td>\n",
       "      <td>&lt;NA&gt;</td>\n",
       "      <td>United Kingdom</td>\n",
       "      <td>2010-12-01</td>\n",
       "    </tr>\n",
       "    <tr>\n",
       "      <th>1970</th>\n",
       "      <td>536545</td>\n",
       "      <td>21134</td>\n",
       "      <td>&lt;NA&gt;</td>\n",
       "      <td>1</td>\n",
       "      <td>2010-12-01 14:32:00</td>\n",
       "      <td>0.0</td>\n",
       "      <td>&lt;NA&gt;</td>\n",
       "      <td>United Kingdom</td>\n",
       "      <td>2010-12-01</td>\n",
       "    </tr>\n",
       "    <tr>\n",
       "      <th>1971</th>\n",
       "      <td>536546</td>\n",
       "      <td>22145</td>\n",
       "      <td>&lt;NA&gt;</td>\n",
       "      <td>1</td>\n",
       "      <td>2010-12-01 14:33:00</td>\n",
       "      <td>0.0</td>\n",
       "      <td>&lt;NA&gt;</td>\n",
       "      <td>United Kingdom</td>\n",
       "      <td>2010-12-01</td>\n",
       "    </tr>\n",
       "    <tr>\n",
       "      <th>1972</th>\n",
       "      <td>536547</td>\n",
       "      <td>37509</td>\n",
       "      <td>&lt;NA&gt;</td>\n",
       "      <td>1</td>\n",
       "      <td>2010-12-01 14:33:00</td>\n",
       "      <td>0.0</td>\n",
       "      <td>&lt;NA&gt;</td>\n",
       "      <td>United Kingdom</td>\n",
       "      <td>2010-12-01</td>\n",
       "    </tr>\n",
       "    <tr>\n",
       "      <th>1987</th>\n",
       "      <td>536549</td>\n",
       "      <td>85226A</td>\n",
       "      <td>&lt;NA&gt;</td>\n",
       "      <td>1</td>\n",
       "      <td>2010-12-01 14:34:00</td>\n",
       "      <td>0.0</td>\n",
       "      <td>&lt;NA&gt;</td>\n",
       "      <td>United Kingdom</td>\n",
       "      <td>2010-12-01</td>\n",
       "    </tr>\n",
       "  </tbody>\n",
       "</table>\n",
       "</div>"
      ],
      "text/plain": [
       "     InvoiceNo StockCode Description  Quantity    InvoiceTimestamp  UnitPrice  \\\n",
       "622     536414     22139        <NA>        56 2010-12-01 11:52:00        0.0   \n",
       "1970    536545     21134        <NA>         1 2010-12-01 14:32:00        0.0   \n",
       "1971    536546     22145        <NA>         1 2010-12-01 14:33:00        0.0   \n",
       "1972    536547     37509        <NA>         1 2010-12-01 14:33:00        0.0   \n",
       "1987    536549    85226A        <NA>         1 2010-12-01 14:34:00        0.0   \n",
       "\n",
       "     CustomerID         Country InvoiceDate  \n",
       "622        <NA>  United Kingdom  2010-12-01  \n",
       "1970       <NA>  United Kingdom  2010-12-01  \n",
       "1971       <NA>  United Kingdom  2010-12-01  \n",
       "1972       <NA>  United Kingdom  2010-12-01  \n",
       "1987       <NA>  United Kingdom  2010-12-01  "
      ]
     },
     "metadata": {},
     "output_type": "display_data"
    },
    {
     "data": {
      "text/plain": [
       "2515"
      ]
     },
     "metadata": {},
     "output_type": "display_data"
    },
    {
     "data": {
      "text/plain": [
       "0.4641000610803659"
      ]
     },
     "metadata": {},
     "output_type": "display_data"
    }
   ],
   "source": [
    "display(\n",
    "\t\"unit price = 0\",\n",
    "\tdf[df[\"UnitPrice\"]==0].head(),\n",
    "    df[df[\"UnitPrice\"]==0].shape[0],\n",
    "\tdf[df[\"UnitPrice\"]==0].shape[0]/len(df)*100\n",
    ")"
   ]
  },
  {
   "cell_type": "markdown",
   "id": "65f52220",
   "metadata": {},
   "source": [
    "Problem:\n",
    "- ~ 0.5% of rows have unit price of 0"
   ]
  },
  {
   "cell_type": "code",
   "execution_count": 9,
   "id": "78ea76f2",
   "metadata": {},
   "outputs": [
    {
     "data": {
      "text/html": [
       "<div>\n",
       "<style scoped>\n",
       "    .dataframe tbody tr th:only-of-type {\n",
       "        vertical-align: middle;\n",
       "    }\n",
       "\n",
       "    .dataframe tbody tr th {\n",
       "        vertical-align: top;\n",
       "    }\n",
       "\n",
       "    .dataframe thead th {\n",
       "        text-align: right;\n",
       "    }\n",
       "</style>\n",
       "<table border=\"1\" class=\"dataframe\">\n",
       "  <thead>\n",
       "    <tr style=\"text-align: right;\">\n",
       "      <th></th>\n",
       "      <th>InvoiceNo</th>\n",
       "      <th>StockCode</th>\n",
       "      <th>invoice_time_count</th>\n",
       "    </tr>\n",
       "  </thead>\n",
       "  <tbody>\n",
       "    <tr>\n",
       "      <th>0</th>\n",
       "      <td>541596</td>\n",
       "      <td>22748</td>\n",
       "      <td>2</td>\n",
       "    </tr>\n",
       "    <tr>\n",
       "      <th>1</th>\n",
       "      <td>541809</td>\n",
       "      <td>21929</td>\n",
       "      <td>2</td>\n",
       "    </tr>\n",
       "    <tr>\n",
       "      <th>2</th>\n",
       "      <td>544186</td>\n",
       "      <td>21094</td>\n",
       "      <td>2</td>\n",
       "    </tr>\n",
       "    <tr>\n",
       "      <th>3</th>\n",
       "      <td>550320</td>\n",
       "      <td>22839</td>\n",
       "      <td>2</td>\n",
       "    </tr>\n",
       "    <tr>\n",
       "      <th>4</th>\n",
       "      <td>567183</td>\n",
       "      <td>22659</td>\n",
       "      <td>2</td>\n",
       "    </tr>\n",
       "    <tr>\n",
       "      <th>5</th>\n",
       "      <td>567183</td>\n",
       "      <td>22907</td>\n",
       "      <td>2</td>\n",
       "    </tr>\n",
       "    <tr>\n",
       "      <th>6</th>\n",
       "      <td>578548</td>\n",
       "      <td>84347</td>\n",
       "      <td>2</td>\n",
       "    </tr>\n",
       "  </tbody>\n",
       "</table>\n",
       "</div>"
      ],
      "text/plain": [
       "  InvoiceNo StockCode  invoice_time_count\n",
       "0    541596     22748                   2\n",
       "1    541809     21929                   2\n",
       "2    544186     21094                   2\n",
       "3    550320     22839                   2\n",
       "4    567183     22659                   2\n",
       "5    567183     22907                   2\n",
       "6    578548     84347                   2"
      ]
     },
     "execution_count": 9,
     "metadata": {},
     "output_type": "execute_result"
    }
   ],
   "source": [
    "invoice_stock_w_multiple_invoice_time = df.groupby([\"InvoiceNo\", \"StockCode\"]).agg(\n",
    "\tinvoice_time_count = pd.NamedAgg(\"InvoiceTimestamp\", \"nunique\")\n",
    ").query(\"invoice_time_count>=2\").sort_values(\"invoice_time_count\", ascending=False).reset_index()\n",
    "\n",
    "invoice_stock_w_multiple_invoice_time"
   ]
  },
  {
   "cell_type": "code",
   "execution_count": 10,
   "id": "ccbc6354",
   "metadata": {},
   "outputs": [
    {
     "data": {
      "text/html": [
       "<div>\n",
       "<style scoped>\n",
       "    .dataframe tbody tr th:only-of-type {\n",
       "        vertical-align: middle;\n",
       "    }\n",
       "\n",
       "    .dataframe tbody tr th {\n",
       "        vertical-align: top;\n",
       "    }\n",
       "\n",
       "    .dataframe thead th {\n",
       "        text-align: right;\n",
       "    }\n",
       "</style>\n",
       "<table border=\"1\" class=\"dataframe\">\n",
       "  <thead>\n",
       "    <tr style=\"text-align: right;\">\n",
       "      <th></th>\n",
       "      <th></th>\n",
       "      <th>min_invoice_time</th>\n",
       "      <th>max_invoice_time</th>\n",
       "      <th>invoice_diff</th>\n",
       "    </tr>\n",
       "    <tr>\n",
       "      <th>InvoiceNo</th>\n",
       "      <th>StockCode</th>\n",
       "      <th></th>\n",
       "      <th></th>\n",
       "      <th></th>\n",
       "    </tr>\n",
       "  </thead>\n",
       "  <tbody>\n",
       "    <tr>\n",
       "      <th>541596</th>\n",
       "      <th>22748</th>\n",
       "      <td>2011-01-19 16:18:00</td>\n",
       "      <td>2011-01-19 16:19:00</td>\n",
       "      <td>0 days 00:01:00</td>\n",
       "    </tr>\n",
       "    <tr>\n",
       "      <th>541809</th>\n",
       "      <th>21929</th>\n",
       "      <td>2011-01-21 14:58:00</td>\n",
       "      <td>2011-01-21 14:59:00</td>\n",
       "      <td>0 days 00:01:00</td>\n",
       "    </tr>\n",
       "    <tr>\n",
       "      <th>544186</th>\n",
       "      <th>21094</th>\n",
       "      <td>2011-02-16 15:55:00</td>\n",
       "      <td>2011-02-16 15:56:00</td>\n",
       "      <td>0 days 00:01:00</td>\n",
       "    </tr>\n",
       "    <tr>\n",
       "      <th>550320</th>\n",
       "      <th>22839</th>\n",
       "      <td>2011-04-17 12:37:00</td>\n",
       "      <td>2011-04-17 12:38:00</td>\n",
       "      <td>0 days 00:01:00</td>\n",
       "    </tr>\n",
       "    <tr>\n",
       "      <th rowspan=\"2\" valign=\"top\">567183</th>\n",
       "      <th>22659</th>\n",
       "      <td>2011-09-18 15:32:00</td>\n",
       "      <td>2011-09-18 15:33:00</td>\n",
       "      <td>0 days 00:01:00</td>\n",
       "    </tr>\n",
       "    <tr>\n",
       "      <th>22907</th>\n",
       "      <td>2011-09-18 15:32:00</td>\n",
       "      <td>2011-09-18 15:33:00</td>\n",
       "      <td>0 days 00:01:00</td>\n",
       "    </tr>\n",
       "    <tr>\n",
       "      <th>578548</th>\n",
       "      <th>84347</th>\n",
       "      <td>2011-11-24 15:02:00</td>\n",
       "      <td>2011-11-24 15:03:00</td>\n",
       "      <td>0 days 00:01:00</td>\n",
       "    </tr>\n",
       "  </tbody>\n",
       "</table>\n",
       "</div>"
      ],
      "text/plain": [
       "                       min_invoice_time    max_invoice_time    invoice_diff\n",
       "InvoiceNo StockCode                                                        \n",
       "541596    22748     2011-01-19 16:18:00 2011-01-19 16:19:00 0 days 00:01:00\n",
       "541809    21929     2011-01-21 14:58:00 2011-01-21 14:59:00 0 days 00:01:00\n",
       "544186    21094     2011-02-16 15:55:00 2011-02-16 15:56:00 0 days 00:01:00\n",
       "550320    22839     2011-04-17 12:37:00 2011-04-17 12:38:00 0 days 00:01:00\n",
       "567183    22659     2011-09-18 15:32:00 2011-09-18 15:33:00 0 days 00:01:00\n",
       "          22907     2011-09-18 15:32:00 2011-09-18 15:33:00 0 days 00:01:00\n",
       "578548    84347     2011-11-24 15:02:00 2011-11-24 15:03:00 0 days 00:01:00"
      ]
     },
     "metadata": {},
     "output_type": "display_data"
    }
   ],
   "source": [
    "display(\n",
    "\tdf.merge(\n",
    "\t\tinvoice_stock_w_multiple_invoice_time,\n",
    "\t\thow=\"right\",\n",
    "\t\ton=[\"InvoiceNo\", \"StockCode\"]\n",
    "\t).groupby([\"InvoiceNo\", \"StockCode\"]).agg(\n",
    "\t\tmin_invoice_time = pd.NamedAgg(\"InvoiceTimestamp\", \"min\"),\n",
    "\t\tmax_invoice_time = pd.NamedAgg(\"InvoiceTimestamp\", \"max\"),\n",
    "\t).eval(\n",
    "\t\t\"\"\"\n",
    "\t\tinvoice_diff = max_invoice_time - min_invoice_time\n",
    "\t\t\"\"\",\n",
    "\t\tengine = \"python\"\n",
    "\t)\n",
    ")"
   ]
  },
  {
   "cell_type": "code",
   "execution_count": 11,
   "id": "070686ae",
   "metadata": {},
   "outputs": [
    {
     "data": {
      "text/html": [
       "<div>\n",
       "<style scoped>\n",
       "    .dataframe tbody tr th:only-of-type {\n",
       "        vertical-align: middle;\n",
       "    }\n",
       "\n",
       "    .dataframe tbody tr th {\n",
       "        vertical-align: top;\n",
       "    }\n",
       "\n",
       "    .dataframe thead th {\n",
       "        text-align: right;\n",
       "    }\n",
       "</style>\n",
       "<table border=\"1\" class=\"dataframe\">\n",
       "  <thead>\n",
       "    <tr style=\"text-align: right;\">\n",
       "      <th></th>\n",
       "      <th>InvoiceNo</th>\n",
       "      <th>StockCode</th>\n",
       "      <th>Description</th>\n",
       "      <th>Quantity</th>\n",
       "      <th>InvoiceTimestamp</th>\n",
       "      <th>UnitPrice</th>\n",
       "      <th>CustomerID</th>\n",
       "      <th>Country</th>\n",
       "      <th>InvoiceDate</th>\n",
       "      <th>invoice_time_count</th>\n",
       "    </tr>\n",
       "  </thead>\n",
       "  <tbody>\n",
       "    <tr>\n",
       "      <th>0</th>\n",
       "      <td>541596</td>\n",
       "      <td>22748</td>\n",
       "      <td>POPPY'S PLAYHOUSE KITCHEN</td>\n",
       "      <td>1</td>\n",
       "      <td>2011-01-19 16:18:00</td>\n",
       "      <td>2.1</td>\n",
       "      <td>17602</td>\n",
       "      <td>United Kingdom</td>\n",
       "      <td>2011-01-19</td>\n",
       "      <td>2</td>\n",
       "    </tr>\n",
       "    <tr>\n",
       "      <th>1</th>\n",
       "      <td>541596</td>\n",
       "      <td>22748</td>\n",
       "      <td>POPPY'S PLAYHOUSE KITCHEN</td>\n",
       "      <td>3</td>\n",
       "      <td>2011-01-19 16:19:00</td>\n",
       "      <td>2.1</td>\n",
       "      <td>17602</td>\n",
       "      <td>United Kingdom</td>\n",
       "      <td>2011-01-19</td>\n",
       "      <td>2</td>\n",
       "    </tr>\n",
       "    <tr>\n",
       "      <th>2</th>\n",
       "      <td>541809</td>\n",
       "      <td>21929</td>\n",
       "      <td>JUMBO BAG PINK VINTAGE PAISLEY</td>\n",
       "      <td>2</td>\n",
       "      <td>2011-01-21 14:58:00</td>\n",
       "      <td>4.96</td>\n",
       "      <td>&lt;NA&gt;</td>\n",
       "      <td>United Kingdom</td>\n",
       "      <td>2011-01-21</td>\n",
       "      <td>2</td>\n",
       "    </tr>\n",
       "    <tr>\n",
       "      <th>3</th>\n",
       "      <td>541809</td>\n",
       "      <td>21929</td>\n",
       "      <td>JUMBO BAG PINK VINTAGE PAISLEY</td>\n",
       "      <td>2</td>\n",
       "      <td>2011-01-21 14:59:00</td>\n",
       "      <td>4.13</td>\n",
       "      <td>&lt;NA&gt;</td>\n",
       "      <td>United Kingdom</td>\n",
       "      <td>2011-01-21</td>\n",
       "      <td>2</td>\n",
       "    </tr>\n",
       "    <tr>\n",
       "      <th>4</th>\n",
       "      <td>544186</td>\n",
       "      <td>21094</td>\n",
       "      <td>SET/6 RED SPOTTY PAPER PLATES</td>\n",
       "      <td>2</td>\n",
       "      <td>2011-02-16 15:55:00</td>\n",
       "      <td>0.83</td>\n",
       "      <td>&lt;NA&gt;</td>\n",
       "      <td>United Kingdom</td>\n",
       "      <td>2011-02-16</td>\n",
       "      <td>2</td>\n",
       "    </tr>\n",
       "    <tr>\n",
       "      <th>5</th>\n",
       "      <td>544186</td>\n",
       "      <td>21094</td>\n",
       "      <td>SET/6 RED SPOTTY PAPER PLATES</td>\n",
       "      <td>6</td>\n",
       "      <td>2011-02-16 15:56:00</td>\n",
       "      <td>0.85</td>\n",
       "      <td>&lt;NA&gt;</td>\n",
       "      <td>United Kingdom</td>\n",
       "      <td>2011-02-16</td>\n",
       "      <td>2</td>\n",
       "    </tr>\n",
       "    <tr>\n",
       "      <th>6</th>\n",
       "      <td>550320</td>\n",
       "      <td>22839</td>\n",
       "      <td>3 TIER CAKE TIN GREEN AND CREAM</td>\n",
       "      <td>1</td>\n",
       "      <td>2011-04-17 12:37:00</td>\n",
       "      <td>14.95</td>\n",
       "      <td>12748</td>\n",
       "      <td>United Kingdom</td>\n",
       "      <td>2011-04-17</td>\n",
       "      <td>2</td>\n",
       "    </tr>\n",
       "    <tr>\n",
       "      <th>7</th>\n",
       "      <td>550320</td>\n",
       "      <td>22839</td>\n",
       "      <td>3 TIER CAKE TIN GREEN AND CREAM</td>\n",
       "      <td>2</td>\n",
       "      <td>2011-04-17 12:38:00</td>\n",
       "      <td>14.95</td>\n",
       "      <td>12748</td>\n",
       "      <td>United Kingdom</td>\n",
       "      <td>2011-04-17</td>\n",
       "      <td>2</td>\n",
       "    </tr>\n",
       "    <tr>\n",
       "      <th>8</th>\n",
       "      <td>567183</td>\n",
       "      <td>22659</td>\n",
       "      <td>LUNCH BOX I LOVE LONDON</td>\n",
       "      <td>2</td>\n",
       "      <td>2011-09-18 15:32:00</td>\n",
       "      <td>1.95</td>\n",
       "      <td>14769</td>\n",
       "      <td>United Kingdom</td>\n",
       "      <td>2011-09-18</td>\n",
       "      <td>2</td>\n",
       "    </tr>\n",
       "    <tr>\n",
       "      <th>9</th>\n",
       "      <td>567183</td>\n",
       "      <td>22659</td>\n",
       "      <td>LUNCH BOX I LOVE LONDON</td>\n",
       "      <td>2</td>\n",
       "      <td>2011-09-18 15:33:00</td>\n",
       "      <td>1.95</td>\n",
       "      <td>14769</td>\n",
       "      <td>United Kingdom</td>\n",
       "      <td>2011-09-18</td>\n",
       "      <td>2</td>\n",
       "    </tr>\n",
       "    <tr>\n",
       "      <th>10</th>\n",
       "      <td>567183</td>\n",
       "      <td>22907</td>\n",
       "      <td>PACK OF 20 NAPKINS PANTRY DESIGN</td>\n",
       "      <td>8</td>\n",
       "      <td>2011-09-18 15:32:00</td>\n",
       "      <td>0.85</td>\n",
       "      <td>14769</td>\n",
       "      <td>United Kingdom</td>\n",
       "      <td>2011-09-18</td>\n",
       "      <td>2</td>\n",
       "    </tr>\n",
       "    <tr>\n",
       "      <th>11</th>\n",
       "      <td>567183</td>\n",
       "      <td>22907</td>\n",
       "      <td>PACK OF 20 NAPKINS PANTRY DESIGN</td>\n",
       "      <td>6</td>\n",
       "      <td>2011-09-18 15:33:00</td>\n",
       "      <td>0.85</td>\n",
       "      <td>14769</td>\n",
       "      <td>United Kingdom</td>\n",
       "      <td>2011-09-18</td>\n",
       "      <td>2</td>\n",
       "    </tr>\n",
       "    <tr>\n",
       "      <th>12</th>\n",
       "      <td>578548</td>\n",
       "      <td>84347</td>\n",
       "      <td>ROTATING SILVER ANGELS T-LIGHT HLDR</td>\n",
       "      <td>2</td>\n",
       "      <td>2011-11-24 15:02:00</td>\n",
       "      <td>2.55</td>\n",
       "      <td>17345</td>\n",
       "      <td>United Kingdom</td>\n",
       "      <td>2011-11-24</td>\n",
       "      <td>2</td>\n",
       "    </tr>\n",
       "    <tr>\n",
       "      <th>13</th>\n",
       "      <td>578548</td>\n",
       "      <td>84347</td>\n",
       "      <td>ROTATING SILVER ANGELS T-LIGHT HLDR</td>\n",
       "      <td>1</td>\n",
       "      <td>2011-11-24 15:02:00</td>\n",
       "      <td>2.55</td>\n",
       "      <td>17345</td>\n",
       "      <td>United Kingdom</td>\n",
       "      <td>2011-11-24</td>\n",
       "      <td>2</td>\n",
       "    </tr>\n",
       "    <tr>\n",
       "      <th>14</th>\n",
       "      <td>578548</td>\n",
       "      <td>84347</td>\n",
       "      <td>ROTATING SILVER ANGELS T-LIGHT HLDR</td>\n",
       "      <td>3</td>\n",
       "      <td>2011-11-24 15:03:00</td>\n",
       "      <td>2.55</td>\n",
       "      <td>17345</td>\n",
       "      <td>United Kingdom</td>\n",
       "      <td>2011-11-24</td>\n",
       "      <td>2</td>\n",
       "    </tr>\n",
       "  </tbody>\n",
       "</table>\n",
       "</div>"
      ],
      "text/plain": [
       "   InvoiceNo StockCode                          Description  Quantity  \\\n",
       "0     541596     22748            POPPY'S PLAYHOUSE KITCHEN         1   \n",
       "1     541596     22748            POPPY'S PLAYHOUSE KITCHEN         3   \n",
       "2     541809     21929       JUMBO BAG PINK VINTAGE PAISLEY         2   \n",
       "3     541809     21929       JUMBO BAG PINK VINTAGE PAISLEY         2   \n",
       "4     544186     21094        SET/6 RED SPOTTY PAPER PLATES         2   \n",
       "5     544186     21094        SET/6 RED SPOTTY PAPER PLATES         6   \n",
       "6     550320     22839      3 TIER CAKE TIN GREEN AND CREAM         1   \n",
       "7     550320     22839      3 TIER CAKE TIN GREEN AND CREAM         2   \n",
       "8     567183     22659              LUNCH BOX I LOVE LONDON         2   \n",
       "9     567183     22659              LUNCH BOX I LOVE LONDON         2   \n",
       "10    567183     22907     PACK OF 20 NAPKINS PANTRY DESIGN         8   \n",
       "11    567183     22907     PACK OF 20 NAPKINS PANTRY DESIGN         6   \n",
       "12    578548     84347  ROTATING SILVER ANGELS T-LIGHT HLDR         2   \n",
       "13    578548     84347  ROTATING SILVER ANGELS T-LIGHT HLDR         1   \n",
       "14    578548     84347  ROTATING SILVER ANGELS T-LIGHT HLDR         3   \n",
       "\n",
       "      InvoiceTimestamp  UnitPrice CustomerID         Country InvoiceDate  \\\n",
       "0  2011-01-19 16:18:00        2.1      17602  United Kingdom  2011-01-19   \n",
       "1  2011-01-19 16:19:00        2.1      17602  United Kingdom  2011-01-19   \n",
       "2  2011-01-21 14:58:00       4.96       <NA>  United Kingdom  2011-01-21   \n",
       "3  2011-01-21 14:59:00       4.13       <NA>  United Kingdom  2011-01-21   \n",
       "4  2011-02-16 15:55:00       0.83       <NA>  United Kingdom  2011-02-16   \n",
       "5  2011-02-16 15:56:00       0.85       <NA>  United Kingdom  2011-02-16   \n",
       "6  2011-04-17 12:37:00      14.95      12748  United Kingdom  2011-04-17   \n",
       "7  2011-04-17 12:38:00      14.95      12748  United Kingdom  2011-04-17   \n",
       "8  2011-09-18 15:32:00       1.95      14769  United Kingdom  2011-09-18   \n",
       "9  2011-09-18 15:33:00       1.95      14769  United Kingdom  2011-09-18   \n",
       "10 2011-09-18 15:32:00       0.85      14769  United Kingdom  2011-09-18   \n",
       "11 2011-09-18 15:33:00       0.85      14769  United Kingdom  2011-09-18   \n",
       "12 2011-11-24 15:02:00       2.55      17345  United Kingdom  2011-11-24   \n",
       "13 2011-11-24 15:02:00       2.55      17345  United Kingdom  2011-11-24   \n",
       "14 2011-11-24 15:03:00       2.55      17345  United Kingdom  2011-11-24   \n",
       "\n",
       "    invoice_time_count  \n",
       "0                    2  \n",
       "1                    2  \n",
       "2                    2  \n",
       "3                    2  \n",
       "4                    2  \n",
       "5                    2  \n",
       "6                    2  \n",
       "7                    2  \n",
       "8                    2  \n",
       "9                    2  \n",
       "10                   2  \n",
       "11                   2  \n",
       "12                   2  \n",
       "13                   2  \n",
       "14                   2  "
      ]
     },
     "metadata": {},
     "output_type": "display_data"
    }
   ],
   "source": [
    "display(\n",
    "\tdf.merge(\n",
    "\t\tinvoice_stock_w_multiple_invoice_time,\n",
    "\t\thow=\"right\",\n",
    "\t\ton=[\"InvoiceNo\", \"StockCode\"]\n",
    "\t)\n",
    ")\n",
    "\n",
    "del invoice_stock_w_multiple_invoice_time"
   ]
  },
  {
   "cell_type": "markdown",
   "id": "d80ab574",
   "metadata": {},
   "source": [
    "Problem:\n",
    "- There are some data grouped by invoice no and stock code have different invoice timestamp\n",
    "- The invoice timestamp should be exactly the same \n",
    "- Interestingly, the difference between highest and lowest invoce timestamp for each group is 1 minute\n",
    "- and these problems are all happened in UK"
   ]
  },
  {
   "cell_type": "code",
   "execution_count": 12,
   "id": "f2c34c0d",
   "metadata": {},
   "outputs": [
    {
     "data": {
      "text/plain": [
       "<StringArray>\n",
       "[     'POST',         'D',       'DOT',         'M',         'S', 'AMAZONFEE',\n",
       "         'm',  'DCGSSBOY', 'DCGSSGIRL',      'PADS',         'B',      'CRUK']\n",
       "Length: 12, dtype: string"
      ]
     },
     "execution_count": 12,
     "metadata": {},
     "output_type": "execute_result"
    }
   ],
   "source": [
    "odd_stock_code = df.loc[df[\"StockCode\"].str.isalpha(), \"StockCode\"].unique()\n",
    "odd_stock_code"
   ]
  },
  {
   "cell_type": "code",
   "execution_count": null,
   "id": "9162f310",
   "metadata": {},
   "outputs": [
    {
     "name": "stdout",
     "output_type": "stream",
     "text": [
      "{'AMAZONFEE': ['AMAZON FEE'],\n",
      " 'B': ['Adjust bad debt'],\n",
      " 'CRUK': ['CRUK Commission'],\n",
      " 'D': ['Discount'],\n",
      " 'DCGSSBOY': ['BOYS PARTY BAG'],\n",
      " 'DCGSSGIRL': ['GIRLS PARTY BAG'],\n",
      " 'DOT': ['DOTCOM POSTAGE', <NA>],\n",
      " 'M': ['Manual'],\n",
      " 'PADS': ['PADS TO MATCH ALL CUSHIONS'],\n",
      " 'POST': ['POSTAGE', <NA>],\n",
      " 'S': ['SAMPLES'],\n",
      " 'm': ['Manual']}\n"
     ]
    }
   ],
   "source": [
    "odd_stock_code_map = {}\n",
    "for stock_code in odd_stock_code:\n",
    "\todd_stock_code_map[stock_code] = list(df.loc[df[\"StockCode\"] == stock_code, \"Description\"].unique())\n",
    "\n",
    "pprint(odd_stock_code_map)"
   ]
  },
  {
   "cell_type": "markdown",
   "id": "62cc5ea4",
   "metadata": {},
   "source": [
    "Problem:\n",
    "- stock code (m & M) refers to the same description\n",
    "- stock D doesn't show any transaction since it's a discount\n",
    "- does stock code S refering to transaction of samples?\n",
    "- stock code B doesn't make any sense to be appear in transaction\n",
    "- only POST and DOT among odd stock codes have 2 product descriptions and one of them is NULL"
   ]
  },
  {
   "cell_type": "code",
   "execution_count": null,
   "id": "3195e8b0",
   "metadata": {},
   "outputs": [],
   "source": [
    "df.loc[df[\"StockCode\"]==\"S\", \"Quantity\"].value_counts()"
   ]
  },
  {
   "cell_type": "markdown",
   "id": "a0a6179b",
   "metadata": {},
   "source": [
    "Solutions:\n",
    "- update stock code M to m\n",
    "- Drop transactions with stock code D, S, B\n",
    "- update NULL product description of stock code POST and DOT with their non-null description respectively"
   ]
  },
  {
   "cell_type": "code",
   "execution_count": null,
   "id": "e2c239d9",
   "metadata": {},
   "outputs": [],
   "source": [
    "for stock_code in sorted(odd_stock_code):\n",
    "\tprint(f\"stock code: {stock_code}\")\n",
    "\t\n",
    "\tfor col in [\"Quantity\", \"UnitPrice\", \"CustomerID\", \"Country\"]:\n",
    "\t\tprint(f\"\\tunique val in {col}: {df.loc[df['StockCode']==stock_code, col].nunique()}\")\n",
    "\n",
    "\t\tif col in [\"Quantity\", \"UnitPrice\"]:\n",
    "\t\t\tsns.boxplot(df.query(\"StockCode==@stock_code\"), x=col)\n",
    "\t\t\tplt.title(f\"Distribution of {col} for Stock Code of {stock_code}\")\n",
    "\t\t\tplt.show()\n",
    "\t\telif col == \"Country\":\n",
    "\t\t\tdisplay(df.loc[df[\"StockCode\"]==stock_code, [col]].value_counts().reset_index().sort_values(by=\"count\", ascending=False))\n",
    "\t\n",
    "\tdisplay(df[df[\"StockCode\"]==stock_code].head(10))"
   ]
  },
  {
   "cell_type": "code",
   "execution_count": null,
   "id": "01720e10",
   "metadata": {},
   "outputs": [],
   "source": [
    "df[df[\"UnitPrice\"]==0]"
   ]
  },
  {
   "cell_type": "markdown",
   "id": "d91b8331-4cf9-456e-b082-fc310a5d2997",
   "metadata": {},
   "source": [
    "**Problem**\n",
    "- why negative quantity and unitprice present?\n",
    "- 25% of rows have missing CustomerID\n",
    "- 0.2% of rows have missing product description\n",
    "- 2515 observations have unit price of 0"
   ]
  },
  {
   "cell_type": "markdown",
   "id": "d13a3472-e343-4fb3-9314-b1036c4f628c",
   "metadata": {},
   "source": [
    "## Indentify the problem"
   ]
  },
  {
   "cell_type": "markdown",
   "id": "9cfc7ec3-aab3-4da5-aed4-4589f230dcc3",
   "metadata": {},
   "source": [
    "### Negative quantity"
   ]
  },
  {
   "cell_type": "code",
   "execution_count": null,
   "id": "6c8056e5-af9d-4a3f-bad3-bd3be520029b",
   "metadata": {},
   "outputs": [],
   "source": [
    "sns.boxplot(\n",
    "\tdata = df,\n",
    "\tx = \"Quantity\"\n",
    ")"
   ]
  },
  {
   "cell_type": "code",
   "execution_count": null,
   "id": "7725cd1a-b931-440a-963f-356f6e599f4e",
   "metadata": {},
   "outputs": [],
   "source": [
    "df[df[\"Quantity\"]<0].shape[0]/df.shape[0]*100"
   ]
  },
  {
   "cell_type": "markdown",
   "id": "b04cfd21-2c6f-4975-ab6b-17cecd498ff0",
   "metadata": {},
   "source": [
    "> Only 2% of data contain negative quantity, which very small amount"
   ]
  },
  {
   "cell_type": "code",
   "execution_count": null,
   "id": "a47d55be",
   "metadata": {},
   "outputs": [],
   "source": [
    "df.columns"
   ]
  },
  {
   "cell_type": "code",
   "execution_count": null,
   "id": "a8027473",
   "metadata": {},
   "outputs": [],
   "source": [
    "df.query(\"StockCode=='22423' and Quantity<0\")[\"Country\"].value_counts()"
   ]
  },
  {
   "cell_type": "code",
   "execution_count": null,
   "id": "301c3ae7",
   "metadata": {},
   "outputs": [],
   "source": [
    "df.loc[df[\"Quantity\"]<0, \"Country\"].value_counts(normalize=True)"
   ]
  },
  {
   "cell_type": "markdown",
   "id": "10a9e25e",
   "metadata": {},
   "source": [
    "- 86% of observation with negative quantity are coming from UK"
   ]
  },
  {
   "cell_type": "markdown",
   "id": "a76af7a2-2238-4315-850c-07e0643fa76b",
   "metadata": {},
   "source": [
    "Resolve:\n",
    "- Drop rows with negative quantity"
   ]
  },
  {
   "cell_type": "markdown",
   "id": "5fb1ee49-a69d-4cdc-9952-6bf9c44d1062",
   "metadata": {},
   "source": [
    "### Missing customerid"
   ]
  },
  {
   "cell_type": "code",
   "execution_count": null,
   "id": "e6d60861-ba84-4fe9-be46-964412b2ea83",
   "metadata": {},
   "outputs": [],
   "source": [
    "df.loc[df[\"CustomerID\"].isnull(), \"Country\"].value_counts(normalize=True)"
   ]
  },
  {
   "cell_type": "code",
   "execution_count": null,
   "id": "e6bc4b9d",
   "metadata": {},
   "outputs": [],
   "source": [
    "df.query(\"CustomerID.isnull() and Country=='United Kingdom'\").shape[0]/df.query(\"Country == 'United Kingdom'\").shape[0]"
   ]
  },
  {
   "cell_type": "code",
   "execution_count": null,
   "id": "fd707f4a-c75f-4c95-8691-2518e194cbcc",
   "metadata": {},
   "outputs": [],
   "source": [
    "df[df[\"CustomerID\"].isnull()].shape[0]/df.shape[0]"
   ]
  },
  {
   "cell_type": "markdown",
   "id": "a8a739cf",
   "metadata": {},
   "source": [
    "Problem:\n",
    "- 98% of data with missing CustomerID are coming from UK\n",
    "- 27% data from UK don't have CustomerID\n",
    "- 25% of all data don't have CustomerID"
   ]
  },
  {
   "cell_type": "code",
   "execution_count": null,
   "id": "5a0bf052-3319-41a4-948b-5065d1beb963",
   "metadata": {
    "scrolled": true
   },
   "outputs": [],
   "source": [
    "invoiceNo_w_null_CID = df.loc[df[\"CustomerID\"].isnull(), \"InvoiceNo\"].unique().tolist()\n",
    "len(invoiceNo_w_null_CID)"
   ]
  },
  {
   "cell_type": "code",
   "execution_count": null,
   "id": "70d4a9fd",
   "metadata": {},
   "outputs": [],
   "source": [
    "stock_code_w_null_CI = df.query(\"InvoiceNo.isin(@invoiceNo_w_null_CID)\")[\"StockCode\"].value_counts().to_frame(\"null_count\").reset_index()\n",
    "stock_code_w_null_CI"
   ]
  },
  {
   "cell_type": "code",
   "execution_count": null,
   "id": "abc4d12e",
   "metadata": {},
   "outputs": [],
   "source": [
    "df[df[\"StockCode\"].isin(stock_code_w_null_CI.sort_values(\"null_count\", ascending=False).head(10)[\"StockCode\"])].groupby(\"StockCode\")[\"Description\"].unique()"
   ]
  },
  {
   "cell_type": "markdown",
   "id": "d343cd8d",
   "metadata": {},
   "source": [
    "Findings:\n",
    "- The analysis above used to find out whether there are any pattern on invoice number with emptly customer id\n",
    "- Interestingly, most of items transacted with condition metioned above are bags"
   ]
  },
  {
   "cell_type": "code",
   "execution_count": null,
   "id": "785c106b",
   "metadata": {},
   "outputs": [],
   "source": [
    "sns.boxenplot(\n",
    "    data=stock_code_w_null_CI,\n",
    "    x=\"null_count\"\n",
    ")"
   ]
  },
  {
   "cell_type": "code",
   "execution_count": null,
   "id": "80ca2137",
   "metadata": {},
   "outputs": [],
   "source": [
    "df.loc[df[\"StockCode\"].isin(stock_code_w_null_CI[\"StockCode\"]), \"StockCode\"].value_counts().to_frame(\"not_null_count\").reset_index()"
   ]
  },
  {
   "cell_type": "code",
   "execution_count": null,
   "id": "568e789d",
   "metadata": {},
   "outputs": [],
   "source": [
    "pd.merge(\n",
    "\tstock_code_w_null_CI,\n",
    "    (df.loc[\n",
    "\t\t\tdf[\"StockCode\"]\n",
    "\t\t\t.isin(stock_code_w_null_CI[\"StockCode\"]), \n",
    "\t\t\t\"StockCode\"\n",
    "        ].value_counts().to_frame(\"not_null_count\")\n",
    "        .reset_index()\n",
    "\t),\n",
    "    on=\"StockCode\",\n",
    "    how=\"inner\"\n",
    ").eval(\n",
    "    \"null_pct = null_count/not_null_count\",\n",
    "    engine=\"python\"\n",
    ").sort_values([\"null_count\", \"null_pct\"], ascending=False)"
   ]
  },
  {
   "cell_type": "code",
   "execution_count": null,
   "id": "6a19e4ec",
   "metadata": {},
   "outputs": [],
   "source": [
    "pd.merge(\n",
    "\tstock_code_w_null_CI,\n",
    "    (df.loc[\n",
    "\t\t\tdf[\"StockCode\"]\n",
    "\t\t\t.isin(stock_code_w_null_CI[\"StockCode\"]), \n",
    "\t\t\t\"StockCode\"\n",
    "        ].value_counts().to_frame(\"not_null_count\")\n",
    "        .reset_index()\n",
    "\t),\n",
    "    on=\"StockCode\",\n",
    "    how=\"inner\"\n",
    ").eval(\n",
    "    \"null_pct = null_count/not_null_count\",\n",
    "    engine=\"python\"\n",
    ").sort_values([\"null_pct\", \"null_count\"], ascending=False)"
   ]
  },
  {
   "cell_type": "code",
   "execution_count": null,
   "id": "31d65d0d",
   "metadata": {},
   "outputs": [],
   "source": [
    "df.loc[df[\"StockCode\"]==\"47566b\"]"
   ]
  },
  {
   "cell_type": "markdown",
   "id": "019e1e1c-c3dd-47fb-8f36-036f44ba2cd8",
   "metadata": {},
   "source": [
    "Assumptions:\n",
    "- Customer ID are missing because they weren't registered as a member"
   ]
  },
  {
   "cell_type": "markdown",
   "id": "93fa8655",
   "metadata": {},
   "source": [
    "Decision:\n",
    "- Leave observations with null customer id as is"
   ]
  },
  {
   "cell_type": "markdown",
   "id": "dec7b2fd",
   "metadata": {},
   "source": [
    "### Duplicated invoice no & stock code"
   ]
  },
  {
   "cell_type": "code",
   "execution_count": null,
   "id": "e40dc8bf",
   "metadata": {},
   "outputs": [],
   "source": [
    "multiple_invoice_stockCode_pair = (\n",
    "    df\n",
    "\t.groupby([\"InvoiceNo\", \"StockCode\"])\n",
    "    .size().to_frame(\"size\")\n",
    "    .sort_values(by=\"size\", ascending=False)\n",
    "    .query(\"size>1\")\n",
    "    .reset_index()\n",
    ")\n",
    "\n",
    "multiple_invoice_stockCode_pair"
   ]
  },
  {
   "cell_type": "code",
   "execution_count": null,
   "id": "79d684e9",
   "metadata": {},
   "outputs": [],
   "source": [
    "df.query(\n",
    "    \"(InvoiceNo==@multiple_invoice_stockCode_pair.head(1)['InvoiceNo'].values[0])\\\n",
    "\t& (StockCode==@multiple_invoice_stockCode_pair.head(1)['StockCode'].values[0])\", \n",
    "    engine=\"python\"\n",
    ")"
   ]
  },
  {
   "cell_type": "markdown",
   "id": "02c9d3e7",
   "metadata": {},
   "source": [
    "Problem:\n",
    "- The samples above showing a pair of invoice number and stock code.\n",
    "- Values across all columns are the same, why these data didn't grouped as one and the quantity summed?\n",
    "- There are 9,694 pairs of invoice number and stock code infected with the problem"
   ]
  },
  {
   "cell_type": "markdown",
   "id": "abb2412e",
   "metadata": {},
   "source": [
    "Assumptions:\n",
    "- These pairs weren't grouped as one due to manual entry or system error"
   ]
  },
  {
   "cell_type": "markdown",
   "id": "ce4ec727",
   "metadata": {},
   "source": [
    "Resolves:\n",
    "- aggregate these rows into one pair of invoce number and stock code"
   ]
  },
  {
   "cell_type": "markdown",
   "id": "ac93ba2f-ef1a-4e89-a7f4-b6f94067341b",
   "metadata": {},
   "source": [
    "### Missing product desc"
   ]
  },
  {
   "cell_type": "code",
   "execution_count": null,
   "id": "1d0bfce2-d861-4ba5-ae52-8cba7064fc9e",
   "metadata": {},
   "outputs": [],
   "source": [
    "stock_code_null_desc = df.loc[df[\"Description\"].isnull(), \"StockCode\"].unique()\n",
    "stock_code_null_desc"
   ]
  },
  {
   "cell_type": "code",
   "execution_count": null,
   "id": "37cf23ff",
   "metadata": {},
   "outputs": [],
   "source": [
    "df.loc[df[\"StockCode\"].isin(stock_code_null_desc), \"Country\"].value_counts(normalize=True).head(10)"
   ]
  },
  {
   "cell_type": "markdown",
   "id": "47fcbfef",
   "metadata": {},
   "source": [
    "Problems:\n",
    "- 92% of observations with NULL descriptions are coming from UK"
   ]
  },
  {
   "cell_type": "code",
   "execution_count": null,
   "id": "0229db64",
   "metadata": {},
   "outputs": [],
   "source": [
    "(df\n",
    "\t.loc[df[\"StockCode\"]\n",
    "    .isin(stock_code_null_desc), \"StockCode\"]\n",
    "    .value_counts(normalize=True)\n",
    "    .sort_values(ascending=False)\n",
    "    .head(10)\n",
    ")"
   ]
  },
  {
   "cell_type": "markdown",
   "id": "12819861",
   "metadata": {},
   "source": [
    "Insights:\n",
    "- observations with NULL descriptions seem scattered randomly across stock codes"
   ]
  },
  {
   "cell_type": "code",
   "execution_count": null,
   "id": "fb1ecfa6",
   "metadata": {},
   "outputs": [],
   "source": [
    "df_null_desc = (\n",
    "    df[\n",
    "\t\tdf[\"StockCode\"].isin(stock_code_null_desc)\n",
    "\t]\n",
    "    .replace({pd.NA: None})\n",
    "    .groupby(\"StockCode\")[\"Description\"].unique().to_frame(\"Descriptions\")\n",
    "    .reset_index()\n",
    ")\n",
    "\n",
    "display(df_null_desc)\n",
    "del stock_code_null_desc"
   ]
  },
  {
   "cell_type": "code",
   "execution_count": null,
   "id": "3dbd61cc",
   "metadata": {},
   "outputs": [],
   "source": [
    "df_null_desc = df_null_desc.loc[\n",
    "\tdf_null_desc[\"Descriptions\"].apply(lambda x: None in x and len(x)==2), \n",
    "].set_index(\"StockCode\")\n",
    "\n",
    "df_null_desc"
   ]
  },
  {
   "cell_type": "code",
   "execution_count": null,
   "id": "50cd93ef",
   "metadata": {},
   "outputs": [],
   "source": [
    "stock_code_null_desc_filter = df_null_desc.index.to_list()"
   ]
  },
  {
   "cell_type": "code",
   "execution_count": null,
   "id": "9811df9f",
   "metadata": {},
   "outputs": [],
   "source": [
    "def replace_null_desc(desc_list: object):\n",
    "\t\"\"\"\n",
    "\tReplace null product description using the following rules:\n",
    "\t\n",
    "\t1. There should be 2 descriptions for the product, one of them is NULL value\n",
    "\t2. Otherwise, the description will be leaved as it is\n",
    "\t\n",
    "\tParam:\n",
    "\t\tdescs (Series): a series that contains each product's description(s)\n",
    "\tReturn:\n",
    "\t\tnew series after value replacement\n",
    "\t\"\"\"\n",
    "\tdesc_list_ = list(desc_list)\n",
    "\n",
    "\t# this statements find non null value in the list\n",
    "\t# I will use if statement to inspect None value, since None means false\n",
    "\tfor i in desc_list_:\n",
    "\t\tif i:\n",
    "\t\t\treturn i"
   ]
  },
  {
   "cell_type": "code",
   "execution_count": null,
   "id": "4ef41e45",
   "metadata": {},
   "outputs": [],
   "source": [
    "df_null_desc[\"Descriptions\"] = df_null_desc[\"Descriptions\"].apply(replace_null_desc)"
   ]
  },
  {
   "cell_type": "code",
   "execution_count": null,
   "id": "2154ddca",
   "metadata": {},
   "outputs": [],
   "source": [
    "null_desc_mapping = df_null_desc[\"Descriptions\"].to_dict()"
   ]
  },
  {
   "cell_type": "code",
   "execution_count": null,
   "id": "4c48dc79",
   "metadata": {},
   "outputs": [],
   "source": [
    "mask = df[\"StockCode\"].isin(stock_code_null_desc_filter)\n",
    "\n",
    "df.loc[mask, \"Description\"] = df.loc[mask, \"StockCode\"].map(null_desc_mapping)\n",
    "del mask"
   ]
  },
  {
   "cell_type": "markdown",
   "id": "f4393db2-a0b0-4c70-91a5-3394481f873b",
   "metadata": {},
   "source": [
    "### Unit price of 0"
   ]
  },
  {
   "cell_type": "code",
   "execution_count": null,
   "id": "24c9a137-1e18-4541-b314-ec0bd30c9ce1",
   "metadata": {},
   "outputs": [],
   "source": [
    "df[df[\"UnitPrice\"]==0]"
   ]
  },
  {
   "cell_type": "code",
   "execution_count": null,
   "id": "85f4e204",
   "metadata": {},
   "outputs": [],
   "source": [
    "df.loc[df[\"UnitPrice\"]==0, \"CustomerID\"].isna().sum()"
   ]
  },
  {
   "cell_type": "markdown",
   "id": "9f4e03cd",
   "metadata": {},
   "source": [
    "98% of observations with unit price = 0 also have missing value on customer id"
   ]
  },
  {
   "cell_type": "code",
   "execution_count": null,
   "id": "aa1f6d78",
   "metadata": {},
   "outputs": [],
   "source": [
    "df.query(\"UnitPrice==0 and CustomerID.isnull()\", engine=\"python\")[\"Country\"].value_counts()"
   ]
  },
  {
   "cell_type": "markdown",
   "id": "5ad67ee5",
   "metadata": {},
   "source": [
    "99% of observations of unit price = 0 and missing customer id are happened in UK"
   ]
  },
  {
   "cell_type": "markdown",
   "id": "56d8a131",
   "metadata": {},
   "source": [
    "## Adressing The Problem"
   ]
  },
  {
   "cell_type": "markdown",
   "id": "22124e6d",
   "metadata": {},
   "source": [
    "### Negative Quantity"
   ]
  },
  {
   "cell_type": "code",
   "execution_count": null,
   "id": "6817be05",
   "metadata": {},
   "outputs": [],
   "source": [
    "df[df[\"Quantity\"]==0]"
   ]
  },
  {
   "cell_type": "code",
   "execution_count": null,
   "id": "c09c45a1",
   "metadata": {},
   "outputs": [],
   "source": [
    "# drop observations with negative quantity\n",
    "df = df[df[\"Quantity\"]>0]"
   ]
  },
  {
   "cell_type": "markdown",
   "id": "589f7119-85b1-4c8e-a475-193d65c98f33",
   "metadata": {},
   "source": [
    "# Analysis"
   ]
  },
  {
   "cell_type": "markdown",
   "id": "34083ae9",
   "metadata": {},
   "source": [
    "Business Questions:\n",
    "- Top 5 Country with most transaction\n",
    "- Top 5 basket size by country\n",
    "- Top 5 basket value by country\n",
    "- MoM sales growth\n",
    "- What's top 10 product transacted in terms of frequency?\n",
    "- What's top 5 Countries that generate most revenue?\n",
    "- Top 5 product with most revenue"
   ]
  },
  {
   "cell_type": "code",
   "execution_count": null,
   "id": "aa1704f3",
   "metadata": {},
   "outputs": [],
   "source": []
  },
  {
   "cell_type": "code",
   "execution_count": null,
   "id": "30b189ed",
   "metadata": {},
   "outputs": [],
   "source": [
    "set(df[df.duplicated(subset=[\"InvoiceNo\", \"StockCode\"])].index.to_list()) - set(df[df.duplicated(subset=[\"InvoiceNo\", \"StockCode\", \"InvoiceTimestamp\"])])"
   ]
  },
  {
   "cell_type": "code",
   "execution_count": null,
   "id": "5b7a9208",
   "metadata": {},
   "outputs": [],
   "source": [
    "df.loc[598]"
   ]
  },
  {
   "cell_type": "code",
   "execution_count": null,
   "id": "bf438c3d",
   "metadata": {},
   "outputs": [],
   "source": [
    "df[df.duplicated(subset=[\"InvoiceNo\", \"StockCode\", \"InvoiceTimestamp\"])]"
   ]
  },
  {
   "cell_type": "code",
   "execution_count": null,
   "id": "e5894ad3",
   "metadata": {},
   "outputs": [],
   "source": [
    "df[df.duplicated(subset=[\"InvoiceNo\", \"StockCode\"])]"
   ]
  },
  {
   "cell_type": "code",
   "execution_count": null,
   "id": "716fadba",
   "metadata": {},
   "outputs": [],
   "source": [
    "df[(df[\"InvoiceNo\"]==\"541596\") & (df[\"StockCode\"]==\"22748\")]"
   ]
  },
  {
   "cell_type": "code",
   "execution_count": null,
   "id": "e0af84c6",
   "metadata": {},
   "outputs": [],
   "source": [
    "df.groupby([\"InvoiceNo\", \"StockCode\"]).agg({\"InvoiceTimestamp\": \"nunique\"}).sort_values(\"InvoiceTimestamp\", ascending=False)"
   ]
  },
  {
   "cell_type": "code",
   "execution_count": null,
   "id": "bcab885d",
   "metadata": {},
   "outputs": [],
   "source": [
    "top10_transacted_product = df.groupby(\"StockCode\").agg(\n",
    "\t\n",
    ")"
   ]
  },
  {
   "cell_type": "markdown",
   "id": "56feb80f",
   "metadata": {},
   "source": [
    "## Top 5 Countries by Revenue"
   ]
  },
  {
   "cell_type": "code",
   "execution_count": null,
   "id": "7fff2611",
   "metadata": {},
   "outputs": [],
   "source": [
    "top5_country_revenue = df.groupby(\"Country\").agg(\n",
    "\ttotal_revenue = pd.NamedAgg(\"revenue\", \"sum\")\n",
    ").sort_values(\"total_revenue\", ascending=False).reset_index().head()\n",
    "\n",
    "top5_country_revenue"
   ]
  },
  {
   "cell_type": "code",
   "execution_count": null,
   "id": "37702c51",
   "metadata": {},
   "outputs": [],
   "source": [
    "fig, ax = plt.subplots(figsize=(6, 3))\n",
    "\n",
    "sns.barplot(\n",
    "\tdata=top5_country_revenue,\n",
    "\tx=\"total_revenue\",\n",
    "\ty=\"Country\",\n",
    "\tax=ax\n",
    ")\n",
    "\n",
    "ax.set_title(\"Top 5 Country by Revenue\")\n",
    "ax.set_ylabel(None)\n",
    "ax.set_xlabel(None)\n",
    "ax.xaxis.set_major_formatter(FuncFormatter(lambda x, _: f\"{int(x/1e6)}M\"))\n",
    "\n",
    "ax.spines[[\"top\", \"right\", \"left\"]].set_visible(False)\n",
    "ax.tick_params(\n",
    "\tleft = None\n",
    ")\n",
    "\n",
    "plt.show()"
   ]
  },
  {
   "cell_type": "markdown",
   "id": "a33a2c24",
   "metadata": {},
   "source": [
    "## Top 5 Transaction by Country"
   ]
  },
  {
   "cell_type": "code",
   "execution_count": null,
   "id": "707767f4",
   "metadata": {},
   "outputs": [],
   "source": [
    "top5_transaction_country = df.groupby(\"Country\").agg(transaction_num = pd.NamedAgg(\"InvoiceNo\", \"nunique\")).sort_values(by=\"transaction_num\", ascending=False).head(5).reset_index()\n",
    "top5_transaction_country[\"transaction_prop\"] = np.round(top5_transaction_country[\"transaction_num\"]/df[\"InvoiceNo\"].nunique(), 3)\n",
    "top5_transaction_country"
   ]
  },
  {
   "cell_type": "code",
   "execution_count": null,
   "id": "61553d76",
   "metadata": {},
   "outputs": [],
   "source": [
    "fig, ax = plt.subplots(figsize=(6, 4))\n",
    "sns.barplot(\n",
    "\tdata=top5_transaction_country,\n",
    "\tx=\"transaction_prop\",\n",
    "\ty=\"Country\",\n",
    "\tax=ax\n",
    ")\n",
    "\n",
    "ax.set_title(\"Top 5 Proportion of Transaction\\nby Country\", loc=\"left\")\n",
    "ax.set_ylabel(None)\n",
    "ax.set_xlabel(\"transaction proportion\")\n",
    "ax.bar_label(ax.containers[0])\n",
    "\n",
    "ax.spines[[\"top\", \"right\", \"left\"]].set_visible(None)\n",
    "ax.tick_params(\n",
    "\tleft = None\n",
    ")\n",
    "plt.show()"
   ]
  },
  {
   "cell_type": "markdown",
   "id": "13d370e9",
   "metadata": {},
   "source": [
    "> UK has the most transaction ≈90%"
   ]
  },
  {
   "cell_type": "markdown",
   "id": "c63daa55",
   "metadata": {},
   "source": [
    "## Basket Size"
   ]
  },
  {
   "cell_type": "markdown",
   "id": "6d87246e",
   "metadata": {},
   "source": [
    "$$\n",
    "\\text{basket size} = \\frac{\\sum{\\text{quantity}}}{\\sum{\\text{transaction}}}\n",
    "$$"
   ]
  },
  {
   "cell_type": "code",
   "execution_count": null,
   "id": "d373a5db-815a-4411-ad9c-91d4867728c0",
   "metadata": {},
   "outputs": [],
   "source": [
    "df[\"revenue\"] = df[\"Quantity\"]*df[\"UnitPrice\"]\n",
    "df.head()"
   ]
  },
  {
   "cell_type": "code",
   "execution_count": null,
   "id": "9e7cffcf",
   "metadata": {},
   "outputs": [],
   "source": [
    "basket_size = df.groupby(\"Country\").agg(\n",
    "\tsum_quantity = pd.NamedAgg(\"Quantity\", \"sum\"),\n",
    "\tsum_transaction = pd.NamedAgg(\"InvoiceNo\", \"nunique\"),\n",
    ").reset_index()\n",
    "\n",
    "basket_size[\"basket_size\"] = basket_size[\"sum_quantity\"]/basket_size[\"sum_transaction\"]\n",
    "\n",
    "basket_size = pd.merge(\n",
    "\tleft=basket_size,\n",
    "\tright=df.groupby(by=[\"Country\", \"InvoiceNo\"]).agg(\n",
    "\t\t\ttotal_revenue = pd.NamedAgg(\"revenue\", \"sum\")\n",
    "\t\t).reset_index().groupby(\"Country\").agg(\n",
    "\t\t\tavg_revenue_per_transaction = pd.NamedAgg(\"total_revenue\", \"mean\")\n",
    "\t\t).reset_index()[[\"Country\", \"avg_revenue_per_transaction\"]],\n",
    "\thow=\"inner\",\n",
    "\ton=\"Country\"\n",
    ").round({\n",
    "\t\"basket_size\": 0, \n",
    "\t\"avg_revenue_per_transaction\": 0\n",
    "}).sort_values(\"basket_size\", ascending=False)"
   ]
  },
  {
   "cell_type": "code",
   "execution_count": null,
   "id": "9ab5b27f",
   "metadata": {},
   "outputs": [],
   "source": [
    "basket_size.head()"
   ]
  },
  {
   "cell_type": "markdown",
   "id": "15ce39d8",
   "metadata": {},
   "source": [
    "- Altough UK has the most proportion of transaction, Netherland generates highest basket size with avg of revenue per transaction is 3 grands"
   ]
  },
  {
   "cell_type": "code",
   "execution_count": null,
   "id": "b0045e17",
   "metadata": {},
   "outputs": [],
   "source": [
    "fig, ax = plt.subplots(figsize=(6, 4))\n",
    "\n",
    "sns.barplot(\n",
    "\tdata=basket_size.head(),\n",
    "\tx=\"basket_size\",\n",
    "\ty=\"Country\",\n",
    "\tax=ax\n",
    ")\n",
    "\n",
    "ax.set_title(\"Top 5 Basket Size\\nby Country\", loc=\"left\")\n",
    "ax.set_ylabel(None)\n",
    "ax.set_xlabel(\"Basket Size\")\n",
    "\n",
    "ax.spines[[\"left\", \"top\", \"right\"]].set_visible(None)\n",
    "ax.tick_params(\n",
    "\tleft = None\n",
    ")\n",
    "\n",
    "plt.show()"
   ]
  },
  {
   "cell_type": "markdown",
   "id": "07c33e23",
   "metadata": {},
   "source": [
    "## Basket Value"
   ]
  },
  {
   "cell_type": "markdown",
   "id": "86f3c2bd",
   "metadata": {},
   "source": [
    "$$\n",
    "\\text{basket value} = \\frac{\\sum{\\text{revenue}}}{\\sum{\\text{transaction}}}\n",
    "$$"
   ]
  },
  {
   "cell_type": "code",
   "execution_count": null,
   "id": "ff960e99",
   "metadata": {},
   "outputs": [],
   "source": [
    "basket_value = df.groupby(\"Country\").agg(\n",
    "\ttotal_revenue = pd.NamedAgg(\"revenue\", \"sum\"),\n",
    "\ttotal_transaction = pd.NamedAgg(\"InvoiceNo\", \"nunique\")\n",
    ").reset_index()\n",
    "\n",
    "basket_value[\"basket_value\"] = np.round(\n",
    "\tbasket_value[\"total_revenue\"]/basket_value[\"total_transaction\"], \n",
    "\t0\n",
    ")\n",
    "basket_value = basket_value.sort_values(by=\"basket_value\", ascending=False)\n",
    "\n",
    "basket_value"
   ]
  },
  {
   "cell_type": "code",
   "execution_count": null,
   "id": "6bc06d74",
   "metadata": {},
   "outputs": [],
   "source": [
    "fig, ax = plt.subplots(figsize=(6, 4))\n",
    "\n",
    "sns.barplot(\n",
    "\tdata=basket_value.head(),\n",
    "\ty=\"Country\",\n",
    "\tx=\"basket_value\",\n",
    "\tax=ax\n",
    ")\n",
    "\n",
    "ax.set_title(\"Top 5 Basket Value\\nby Country\", loc=\"left\")\n",
    "ax.set_ylabel(None)\n",
    "ax.set_xlabel(\"Basket Value\")\n",
    "\n",
    "ax.tick_params(\n",
    "\tleft = None\n",
    ")\n",
    "ax.spines[[\"left\", \"top\", \"right\"]].set_visible(False)\n",
    "\n",
    "plt.show()"
   ]
  },
  {
   "cell_type": "markdown",
   "id": "05ba44d9",
   "metadata": {},
   "source": []
  },
  {
   "cell_type": "markdown",
   "id": "903b748c",
   "metadata": {},
   "source": [
    "## MoM Sales Growth"
   ]
  },
  {
   "cell_type": "markdown",
   "id": "f27cb8ce",
   "metadata": {},
   "source": [
    "$$\n",
    "\\text{MoM Sales Growth} = \\frac{\\sum{\\text{sales of current month}}- \\sum{\\text{sales of previous month}}}{\\sum{\\text{sales of previous month}}}\n",
    "$$"
   ]
  },
  {
   "cell_type": "code",
   "execution_count": null,
   "id": "5435bda8",
   "metadata": {},
   "outputs": [],
   "source": [
    "mom_sales_growth = df.set_index(\"InvoiceDate\").groupby(pd.Grouper(freq=\"ME\")).agg(\n",
    "\ttotal_sales = pd.NamedAgg(\"revenue\", \"sum\"),\n",
    "\ttotal_item_sold = pd.NamedAgg(\"Quantity\", \"sum\")\n",
    ")\n",
    "\n",
    "mom_sales_growth[\"mom_sales_growth\"] = (mom_sales_growth[\"total_sales\"]-mom_sales_growth[\"total_sales\"].shift(periods=1))/mom_sales_growth[\"total_sales\"].shift(periods=1)\n",
    "\n",
    "mom_sales_growth = mom_sales_growth.reset_index()\n",
    "mom_sales_growth[\"period\"] = pd.Categorical(\n",
    "\tmom_sales_growth[\"InvoiceDate\"].dt.to_period(\"M\").dt.strftime(\"%Y-%m\"),\n",
    "\tcategories=['2010-12', '2011-01', '2011-02', \n",
    "\t\t\t\t'2011-03', '2011-04', '2011-05', \n",
    "\t\t\t\t'2011-06', '2011-07', '2011-08', \n",
    "\t\t\t\t'2011-09', '2011-10', '2011-11', \n",
    "\t\t\t\t'2011-12'],\n",
    "\tordered=True\n",
    ")\n",
    "mom_sales_growth"
   ]
  },
  {
   "cell_type": "code",
   "execution_count": null,
   "id": "d4c834c3",
   "metadata": {},
   "outputs": [],
   "source": [
    "mom_sales_growth2 = mom_sales_growth.copy()\n",
    "mom_sales_growth2[\"period\"] = mom_sales_growth.dropna()[\"period\"].cat.remove_unused_categories()\n",
    "fig, ax = plt.subplots(figsize=(10, 4))\n",
    "sns.lineplot(\n",
    "\tdata=mom_sales_growth2,\n",
    "\tx=\"period\",\n",
    "\ty=\"mom_sales_growth\",\n",
    "\tax=ax\n",
    ")\n",
    "\n",
    "ax.set_xticks(ax.get_xticks())\n",
    "ax.set_xticklabels(ax.get_xticklabels(), rotation=45)\n",
    "\n",
    "ax.set_title(\"MoM Sales Growth\")\n",
    "ax.set_ylabel(None)\n",
    "ax.set_xlabel(None)\n",
    "\n",
    "ax.spines[[\"top\", \"right\"]].set_visible(False)\n",
    "\n",
    "plt.show()\n",
    "\n",
    "del mom_sales_growth2"
   ]
  },
  {
   "cell_type": "code",
   "execution_count": null,
   "id": "29ad10d9",
   "metadata": {},
   "outputs": [],
   "source": [
    "fig, ax = plt.subplots(figsize=(10, 4))\n",
    "\n",
    "sns.lineplot(\n",
    "\tdata=mom_sales_growth,\n",
    "\tx=\"period\",\n",
    "\ty=\"total_item_sold\",\n",
    "\tax=ax\n",
    ")\n",
    "\n",
    "ax.set_title(\"Sum of Quantity Sold over the Period\")\n",
    "ax.set_xlabel(None)\n",
    "ax.set_ylabel(None)\n",
    "\n",
    "ax.set_ybound(0, 700000)\n",
    "ax.set_xticks(ax.get_xticks())\n",
    "ax.set_xticklabels(ax.get_xticklabels(), rotation=45)\n",
    "\n",
    "plt.show()"
   ]
  },
  {
   "cell_type": "markdown",
   "id": "b1655d35",
   "metadata": {},
   "source": [
    "> "
   ]
  },
  {
   "cell_type": "code",
   "execution_count": null,
   "id": "257587b4",
   "metadata": {},
   "outputs": [],
   "source": [
    "df[\"InvoiceTimestamp\"].dt.to_period(\"M\").dt.strftime(\"%Y-%m\")"
   ]
  },
  {
   "cell_type": "code",
   "execution_count": null,
   "id": "9802ab65-c65b-4d80-a8af-904cae39a2b3",
   "metadata": {},
   "outputs": [],
   "source": [
    "df[\"Country\"].unique().tolist()"
   ]
  },
  {
   "cell_type": "code",
   "execution_count": null,
   "id": "77c7729b-8247-4d78-9515-6e8c29f7a6d9",
   "metadata": {},
   "outputs": [],
   "source": [
    "revenue_df = df.groupby(by=[\"InvoiceDate\", \"Country\"]).agg(total_revenue = pd.NamedAgg(\"revenue\", \"sum\")).reset_index()\n",
    "revenue_df.head()"
   ]
  },
  {
   "cell_type": "code",
   "execution_count": null,
   "id": "0d05992f-a66f-4bf7-9b26-1c7729d5e51f",
   "metadata": {},
   "outputs": [],
   "source": [
    "sns.lineplot(\n",
    "\tdata = df.groupby(\"InvoiceDate\").agg(total_revenue = pd.NamedAgg(\"revenue\", \"sum\")),\n",
    "\tx = \"InvoiceDate\",\n",
    "\ty = \"total_revenue\"\n",
    ")"
   ]
  },
  {
   "cell_type": "code",
   "execution_count": null,
   "id": "0e83b674-0281-4359-8550-0a4d03491944",
   "metadata": {},
   "outputs": [],
   "source": []
  },
  {
   "cell_type": "code",
   "execution_count": null,
   "id": "382a5c06-65ab-47bc-9f58-c1965f04ea5a",
   "metadata": {},
   "outputs": [],
   "source": []
  },
  {
   "cell_type": "code",
   "execution_count": null,
   "id": "0a5d4e49-9f2f-433c-8210-2dbcef7d79b2",
   "metadata": {},
   "outputs": [],
   "source": []
  }
 ],
 "metadata": {
  "kernelspec": {
   "display_name": "main",
   "language": "python",
   "name": "main"
  },
  "language_info": {
   "codemirror_mode": {
    "name": "ipython",
    "version": 3
   },
   "file_extension": ".py",
   "mimetype": "text/x-python",
   "name": "python",
   "nbconvert_exporter": "python",
   "pygments_lexer": "ipython3",
   "version": "3.9.16"
  }
 },
 "nbformat": 4,
 "nbformat_minor": 5
}
